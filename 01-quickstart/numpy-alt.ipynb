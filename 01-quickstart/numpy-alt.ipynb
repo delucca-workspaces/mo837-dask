{
 "cells": [
  {
   "cell_type": "code",
   "execution_count": 24,
   "outputs": [
    {
     "data": {
      "text/plain": "dask.array<random_sample, shape=(10000, 10000), dtype=float64, chunksize=(1000, 1000), chunktype=numpy.ndarray>",
      "text/html": "<table>\n    <tr>\n        <td>\n            <table>\n                <thead>\n                    <tr>\n                        <td> </td>\n                        <th> Array </th>\n                        <th> Chunk </th>\n                    </tr>\n                </thead>\n                <tbody>\n                    \n                    <tr>\n                        <th> Bytes </th>\n                        <td> 762.94 MiB </td>\n                        <td> 7.63 MiB </td>\n                    </tr>\n                    \n                    <tr>\n                        <th> Shape </th>\n                        <td> (10000, 10000) </td>\n                        <td> (1000, 1000) </td>\n                    </tr>\n                    <tr>\n                        <th> Count </th>\n                        <td> 1 Graph Layer </td>\n                        <td> 100 Chunks </td>\n                    </tr>\n                    <tr>\n                    <th> Type </th>\n                    <td> float64 </td>\n                    <td> numpy.ndarray </td>\n                    </tr>\n                </tbody>\n            </table>\n        </td>\n        <td>\n        <svg width=\"170\" height=\"170\" style=\"stroke:rgb(0,0,0);stroke-width:1\" >\n\n  <!-- Horizontal lines -->\n  <line x1=\"0\" y1=\"0\" x2=\"120\" y2=\"0\" style=\"stroke-width:2\" />\n  <line x1=\"0\" y1=\"12\" x2=\"120\" y2=\"12\" />\n  <line x1=\"0\" y1=\"24\" x2=\"120\" y2=\"24\" />\n  <line x1=\"0\" y1=\"36\" x2=\"120\" y2=\"36\" />\n  <line x1=\"0\" y1=\"48\" x2=\"120\" y2=\"48\" />\n  <line x1=\"0\" y1=\"60\" x2=\"120\" y2=\"60\" />\n  <line x1=\"0\" y1=\"72\" x2=\"120\" y2=\"72\" />\n  <line x1=\"0\" y1=\"84\" x2=\"120\" y2=\"84\" />\n  <line x1=\"0\" y1=\"96\" x2=\"120\" y2=\"96\" />\n  <line x1=\"0\" y1=\"108\" x2=\"120\" y2=\"108\" />\n  <line x1=\"0\" y1=\"120\" x2=\"120\" y2=\"120\" style=\"stroke-width:2\" />\n\n  <!-- Vertical lines -->\n  <line x1=\"0\" y1=\"0\" x2=\"0\" y2=\"120\" style=\"stroke-width:2\" />\n  <line x1=\"12\" y1=\"0\" x2=\"12\" y2=\"120\" />\n  <line x1=\"24\" y1=\"0\" x2=\"24\" y2=\"120\" />\n  <line x1=\"36\" y1=\"0\" x2=\"36\" y2=\"120\" />\n  <line x1=\"48\" y1=\"0\" x2=\"48\" y2=\"120\" />\n  <line x1=\"60\" y1=\"0\" x2=\"60\" y2=\"120\" />\n  <line x1=\"72\" y1=\"0\" x2=\"72\" y2=\"120\" />\n  <line x1=\"84\" y1=\"0\" x2=\"84\" y2=\"120\" />\n  <line x1=\"96\" y1=\"0\" x2=\"96\" y2=\"120\" />\n  <line x1=\"108\" y1=\"0\" x2=\"108\" y2=\"120\" />\n  <line x1=\"120\" y1=\"0\" x2=\"120\" y2=\"120\" style=\"stroke-width:2\" />\n\n  <!-- Colored Rectangle -->\n  <polygon points=\"0.0,0.0 120.0,0.0 120.0,120.0 0.0,120.0\" style=\"fill:#ECB172A0;stroke-width:0\"/>\n\n  <!-- Text -->\n  <text x=\"60.000000\" y=\"140.000000\" font-size=\"1.0rem\" font-weight=\"100\" text-anchor=\"middle\" >10000</text>\n  <text x=\"140.000000\" y=\"60.000000\" font-size=\"1.0rem\" font-weight=\"100\" text-anchor=\"middle\" transform=\"rotate(-90,140.000000,60.000000)\">10000</text>\n</svg>\n        </td>\n    </tr>\n</table>"
     },
     "execution_count": 24,
     "metadata": {},
     "output_type": "execute_result"
    }
   ],
   "source": [
    "import dask.array as da\n",
    "\n",
    "a = da.random.random((10000, 10000), chunks=(1000, 1000))\n",
    "a"
   ],
   "metadata": {
    "collapsed": false
   }
  },
  {
   "cell_type": "code",
   "execution_count": 25,
   "outputs": [
    {
     "data": {
      "text/plain": "dask.array<random_sample, shape=(10000, 10000), dtype=float64, chunksize=(1000, 1000), chunktype=numpy.ndarray>",
      "text/html": "<table>\n    <tr>\n        <td>\n            <table>\n                <thead>\n                    <tr>\n                        <td> </td>\n                        <th> Array </th>\n                        <th> Chunk </th>\n                    </tr>\n                </thead>\n                <tbody>\n                    \n                    <tr>\n                        <th> Bytes </th>\n                        <td> 762.94 MiB </td>\n                        <td> 7.63 MiB </td>\n                    </tr>\n                    \n                    <tr>\n                        <th> Shape </th>\n                        <td> (10000, 10000) </td>\n                        <td> (1000, 1000) </td>\n                    </tr>\n                    <tr>\n                        <th> Count </th>\n                        <td> 1 Graph Layer </td>\n                        <td> 100 Chunks </td>\n                    </tr>\n                    <tr>\n                    <th> Type </th>\n                    <td> float64 </td>\n                    <td> numpy.ndarray </td>\n                    </tr>\n                </tbody>\n            </table>\n        </td>\n        <td>\n        <svg width=\"170\" height=\"170\" style=\"stroke:rgb(0,0,0);stroke-width:1\" >\n\n  <!-- Horizontal lines -->\n  <line x1=\"0\" y1=\"0\" x2=\"120\" y2=\"0\" style=\"stroke-width:2\" />\n  <line x1=\"0\" y1=\"12\" x2=\"120\" y2=\"12\" />\n  <line x1=\"0\" y1=\"24\" x2=\"120\" y2=\"24\" />\n  <line x1=\"0\" y1=\"36\" x2=\"120\" y2=\"36\" />\n  <line x1=\"0\" y1=\"48\" x2=\"120\" y2=\"48\" />\n  <line x1=\"0\" y1=\"60\" x2=\"120\" y2=\"60\" />\n  <line x1=\"0\" y1=\"72\" x2=\"120\" y2=\"72\" />\n  <line x1=\"0\" y1=\"84\" x2=\"120\" y2=\"84\" />\n  <line x1=\"0\" y1=\"96\" x2=\"120\" y2=\"96\" />\n  <line x1=\"0\" y1=\"108\" x2=\"120\" y2=\"108\" />\n  <line x1=\"0\" y1=\"120\" x2=\"120\" y2=\"120\" style=\"stroke-width:2\" />\n\n  <!-- Vertical lines -->\n  <line x1=\"0\" y1=\"0\" x2=\"0\" y2=\"120\" style=\"stroke-width:2\" />\n  <line x1=\"12\" y1=\"0\" x2=\"12\" y2=\"120\" />\n  <line x1=\"24\" y1=\"0\" x2=\"24\" y2=\"120\" />\n  <line x1=\"36\" y1=\"0\" x2=\"36\" y2=\"120\" />\n  <line x1=\"48\" y1=\"0\" x2=\"48\" y2=\"120\" />\n  <line x1=\"60\" y1=\"0\" x2=\"60\" y2=\"120\" />\n  <line x1=\"72\" y1=\"0\" x2=\"72\" y2=\"120\" />\n  <line x1=\"84\" y1=\"0\" x2=\"84\" y2=\"120\" />\n  <line x1=\"96\" y1=\"0\" x2=\"96\" y2=\"120\" />\n  <line x1=\"108\" y1=\"0\" x2=\"108\" y2=\"120\" />\n  <line x1=\"120\" y1=\"0\" x2=\"120\" y2=\"120\" style=\"stroke-width:2\" />\n\n  <!-- Colored Rectangle -->\n  <polygon points=\"0.0,0.0 120.0,0.0 120.0,120.0 0.0,120.0\" style=\"fill:#ECB172A0;stroke-width:0\"/>\n\n  <!-- Text -->\n  <text x=\"60.000000\" y=\"140.000000\" font-size=\"1.0rem\" font-weight=\"100\" text-anchor=\"middle\" >10000</text>\n  <text x=\"140.000000\" y=\"60.000000\" font-size=\"1.0rem\" font-weight=\"100\" text-anchor=\"middle\" transform=\"rotate(-90,140.000000,60.000000)\">10000</text>\n</svg>\n        </td>\n    </tr>\n</table>"
     },
     "execution_count": 25,
     "metadata": {},
     "output_type": "execute_result"
    }
   ],
   "source": [
    "b = da.random.random((10000, 10000), chunks=(1000, 1000))\n",
    "b"
   ],
   "metadata": {
    "collapsed": false
   }
  },
  {
   "cell_type": "code",
   "execution_count": 26,
   "outputs": [
    {
     "data": {
      "text/plain": "dask.array<sum-aggregate, shape=(10000, 10000), dtype=float64, chunksize=(1000, 1000), chunktype=numpy.ndarray>",
      "text/html": "<table>\n    <tr>\n        <td>\n            <table>\n                <thead>\n                    <tr>\n                        <td> </td>\n                        <th> Array </th>\n                        <th> Chunk </th>\n                    </tr>\n                </thead>\n                <tbody>\n                    \n                    <tr>\n                        <th> Bytes </th>\n                        <td> 762.94 MiB </td>\n                        <td> 7.63 MiB </td>\n                    </tr>\n                    \n                    <tr>\n                        <th> Shape </th>\n                        <td> (10000, 10000) </td>\n                        <td> (1000, 1000) </td>\n                    </tr>\n                    <tr>\n                        <th> Count </th>\n                        <td> 6 Graph Layers </td>\n                        <td> 100 Chunks </td>\n                    </tr>\n                    <tr>\n                    <th> Type </th>\n                    <td> float64 </td>\n                    <td> numpy.ndarray </td>\n                    </tr>\n                </tbody>\n            </table>\n        </td>\n        <td>\n        <svg width=\"170\" height=\"170\" style=\"stroke:rgb(0,0,0);stroke-width:1\" >\n\n  <!-- Horizontal lines -->\n  <line x1=\"0\" y1=\"0\" x2=\"120\" y2=\"0\" style=\"stroke-width:2\" />\n  <line x1=\"0\" y1=\"12\" x2=\"120\" y2=\"12\" />\n  <line x1=\"0\" y1=\"24\" x2=\"120\" y2=\"24\" />\n  <line x1=\"0\" y1=\"36\" x2=\"120\" y2=\"36\" />\n  <line x1=\"0\" y1=\"48\" x2=\"120\" y2=\"48\" />\n  <line x1=\"0\" y1=\"60\" x2=\"120\" y2=\"60\" />\n  <line x1=\"0\" y1=\"72\" x2=\"120\" y2=\"72\" />\n  <line x1=\"0\" y1=\"84\" x2=\"120\" y2=\"84\" />\n  <line x1=\"0\" y1=\"96\" x2=\"120\" y2=\"96\" />\n  <line x1=\"0\" y1=\"108\" x2=\"120\" y2=\"108\" />\n  <line x1=\"0\" y1=\"120\" x2=\"120\" y2=\"120\" style=\"stroke-width:2\" />\n\n  <!-- Vertical lines -->\n  <line x1=\"0\" y1=\"0\" x2=\"0\" y2=\"120\" style=\"stroke-width:2\" />\n  <line x1=\"12\" y1=\"0\" x2=\"12\" y2=\"120\" />\n  <line x1=\"24\" y1=\"0\" x2=\"24\" y2=\"120\" />\n  <line x1=\"36\" y1=\"0\" x2=\"36\" y2=\"120\" />\n  <line x1=\"48\" y1=\"0\" x2=\"48\" y2=\"120\" />\n  <line x1=\"60\" y1=\"0\" x2=\"60\" y2=\"120\" />\n  <line x1=\"72\" y1=\"0\" x2=\"72\" y2=\"120\" />\n  <line x1=\"84\" y1=\"0\" x2=\"84\" y2=\"120\" />\n  <line x1=\"96\" y1=\"0\" x2=\"96\" y2=\"120\" />\n  <line x1=\"108\" y1=\"0\" x2=\"108\" y2=\"120\" />\n  <line x1=\"120\" y1=\"0\" x2=\"120\" y2=\"120\" style=\"stroke-width:2\" />\n\n  <!-- Colored Rectangle -->\n  <polygon points=\"0.0,0.0 120.0,0.0 120.0,120.0 0.0,120.0\" style=\"fill:#ECB172A0;stroke-width:0\"/>\n\n  <!-- Text -->\n  <text x=\"60.000000\" y=\"140.000000\" font-size=\"1.0rem\" font-weight=\"100\" text-anchor=\"middle\" >10000</text>\n  <text x=\"140.000000\" y=\"60.000000\" font-size=\"1.0rem\" font-weight=\"100\" text-anchor=\"middle\" transform=\"rotate(-90,140.000000,60.000000)\">10000</text>\n</svg>\n        </td>\n    </tr>\n</table>"
     },
     "execution_count": 26,
     "metadata": {},
     "output_type": "execute_result"
    }
   ],
   "source": [
    "a.dot(b)"
   ],
   "metadata": {
    "collapsed": false
   }
  },
  {
   "cell_type": "code",
   "execution_count": 29,
   "outputs": [
    {
     "name": "stderr",
     "output_type": "stream",
     "text": [
      "/home/delucca/.cache/pypoetry/virtualenvs/mo837-dask-TQKfv5ud-py3.10/lib/python3.10/site-packages/dask/array/routines.py:328: PerformanceWarning: Increasing number of chunks by factor of 10\n",
      "  intermediate = blockwise(\n"
     ]
    },
    {
     "data": {
      "text/plain": "array([[2490.94565122, 2465.70931534, 2500.52785066, ..., 2465.65826541,\n        2483.89033935, 2498.18567375],\n       [2497.79703906, 2486.96886156, 2495.93984402, ..., 2486.7402075 ,\n        2493.28633698, 2522.61512132],\n       [2549.33468391, 2507.12520501, 2520.53786573, ..., 2518.18809254,\n        2520.23726469, 2534.09859126],\n       ...,\n       [2531.37580045, 2503.15639736, 2496.12323736, ..., 2492.78227589,\n        2511.07797837, 2537.02475493],\n       [2487.20685287, 2463.22291711, 2485.31744945, ..., 2442.03090286,\n        2480.33293348, 2498.25910303],\n       [2495.58092089, 2465.21362861, 2468.31379003, ..., 2459.36177212,\n        2483.17592476, 2490.34123345]])"
     },
     "execution_count": 29,
     "metadata": {},
     "output_type": "execute_result"
    }
   ],
   "source": [
    "a.dot(b).compute()"
   ],
   "metadata": {
    "collapsed": false
   }
  }
 ],
 "metadata": {
  "kernelspec": {
   "display_name": "Python 3",
   "language": "python",
   "name": "python3"
  },
  "language_info": {
   "codemirror_mode": {
    "name": "ipython",
    "version": 2
   },
   "file_extension": ".py",
   "mimetype": "text/x-python",
   "name": "python",
   "nbconvert_exporter": "python",
   "pygments_lexer": "ipython2",
   "version": "2.7.6"
  }
 },
 "nbformat": 4,
 "nbformat_minor": 0
}
