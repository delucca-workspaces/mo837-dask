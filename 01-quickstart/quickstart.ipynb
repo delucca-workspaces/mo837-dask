{
 "cells": [
  {
   "cell_type": "code",
   "execution_count": 1,
   "metadata": {
    "collapsed": true,
    "pycharm": {
     "name": "#%%\n"
    }
   },
   "outputs": [
    {
     "ename": "MemoryError",
     "evalue": "Unable to allocate 74.5 GiB for an array with shape (10000, 1000, 1000) and data type float64",
     "output_type": "error",
     "traceback": [
      "\u001B[0;31m---------------------------------------------------------------------------\u001B[0m",
      "\u001B[0;31mMemoryError\u001B[0m                               Traceback (most recent call last)",
      "Cell \u001B[0;32mIn [1], line 3\u001B[0m\n\u001B[1;32m      1\u001B[0m \u001B[38;5;28;01mimport\u001B[39;00m \u001B[38;5;21;01mnumpy\u001B[39;00m \u001B[38;5;28;01mas\u001B[39;00m \u001B[38;5;21;01mnp\u001B[39;00m\n\u001B[0;32m----> 3\u001B[0m images \u001B[38;5;241m=\u001B[39m \u001B[43mnp\u001B[49m\u001B[38;5;241;43m.\u001B[39;49m\u001B[43mones\u001B[49m\u001B[43m(\u001B[49m\u001B[43m(\u001B[49m\u001B[38;5;241;43m10000\u001B[39;49m\u001B[43m,\u001B[49m\u001B[43m \u001B[49m\u001B[38;5;241;43m1000\u001B[39;49m\u001B[43m,\u001B[49m\u001B[43m \u001B[49m\u001B[38;5;241;43m1000\u001B[39;49m\u001B[43m)\u001B[49m\u001B[43m)\u001B[49m\n\u001B[1;32m      4\u001B[0m images\n",
      "File \u001B[0;32m~/.cache/pypoetry/virtualenvs/mo837-dask-UD--aMoH-py3.10/lib/python3.10/site-packages/numpy/core/numeric.py:204\u001B[0m, in \u001B[0;36mones\u001B[0;34m(shape, dtype, order, like)\u001B[0m\n\u001B[1;32m    201\u001B[0m \u001B[38;5;28;01mif\u001B[39;00m like \u001B[38;5;129;01mis\u001B[39;00m \u001B[38;5;129;01mnot\u001B[39;00m \u001B[38;5;28;01mNone\u001B[39;00m:\n\u001B[1;32m    202\u001B[0m     \u001B[38;5;28;01mreturn\u001B[39;00m _ones_with_like(shape, dtype\u001B[38;5;241m=\u001B[39mdtype, order\u001B[38;5;241m=\u001B[39morder, like\u001B[38;5;241m=\u001B[39mlike)\n\u001B[0;32m--> 204\u001B[0m a \u001B[38;5;241m=\u001B[39m \u001B[43mempty\u001B[49m\u001B[43m(\u001B[49m\u001B[43mshape\u001B[49m\u001B[43m,\u001B[49m\u001B[43m \u001B[49m\u001B[43mdtype\u001B[49m\u001B[43m,\u001B[49m\u001B[43m \u001B[49m\u001B[43morder\u001B[49m\u001B[43m)\u001B[49m\n\u001B[1;32m    205\u001B[0m multiarray\u001B[38;5;241m.\u001B[39mcopyto(a, \u001B[38;5;241m1\u001B[39m, casting\u001B[38;5;241m=\u001B[39m\u001B[38;5;124m'\u001B[39m\u001B[38;5;124munsafe\u001B[39m\u001B[38;5;124m'\u001B[39m)\n\u001B[1;32m    206\u001B[0m \u001B[38;5;28;01mreturn\u001B[39;00m a\n",
      "\u001B[0;31mMemoryError\u001B[0m: Unable to allocate 74.5 GiB for an array with shape (10000, 1000, 1000) and data type float64"
     ]
    }
   ],
   "source": [
    "import numpy as np\n",
    "\n",
    "images = np.ones((10000, 1000, 1000))\n",
    "images"
   ]
  },
  {
   "cell_type": "markdown",
   "source": [
    "As we can see, we can't execute the task above, because it would require almost 80GB of RAM"
   ],
   "metadata": {
    "collapsed": false,
    "pycharm": {
     "name": "#%% md\n"
    }
   }
  },
  {
   "cell_type": "code",
   "execution_count": 2,
   "outputs": [
    {
     "data": {
      "text/plain": "dask.array<ones_like, shape=(10000, 1000, 1000), dtype=float64, chunksize=(250, 250, 250), chunktype=numpy.ndarray>",
      "text/html": "<table>\n    <tr>\n        <td>\n            <table>\n                <thead>\n                    <tr>\n                        <td> </td>\n                        <th> Array </th>\n                        <th> Chunk </th>\n                    </tr>\n                </thead>\n                <tbody>\n                    \n                    <tr>\n                        <th> Bytes </th>\n                        <td> 74.51 GiB </td>\n                        <td> 119.21 MiB </td>\n                    </tr>\n                    \n                    <tr>\n                        <th> Shape </th>\n                        <td> (10000, 1000, 1000) </td>\n                        <td> (250, 250, 250) </td>\n                    </tr>\n                    <tr>\n                        <th> Count </th>\n                        <td> 1 Graph Layer </td>\n                        <td> 640 Chunks </td>\n                    </tr>\n                    <tr>\n                    <th> Type </th>\n                    <td> float64 </td>\n                    <td> numpy.ndarray </td>\n                    </tr>\n                </tbody>\n            </table>\n        </td>\n        <td>\n        <svg width=\"169\" height=\"159\" style=\"stroke:rgb(0,0,0);stroke-width:1\" >\n\n  <!-- Horizontal lines -->\n  <line x1=\"10\" y1=\"0\" x2=\"80\" y2=\"70\" style=\"stroke-width:2\" />\n  <line x1=\"10\" y1=\"9\" x2=\"80\" y2=\"80\" />\n  <line x1=\"10\" y1=\"19\" x2=\"80\" y2=\"89\" />\n  <line x1=\"10\" y1=\"28\" x2=\"80\" y2=\"99\" />\n  <line x1=\"10\" y1=\"38\" x2=\"80\" y2=\"109\" style=\"stroke-width:2\" />\n\n  <!-- Vertical lines -->\n  <line x1=\"10\" y1=\"0\" x2=\"10\" y2=\"38\" style=\"stroke-width:2\" />\n  <line x1=\"13\" y1=\"3\" x2=\"13\" y2=\"42\" />\n  <line x1=\"17\" y1=\"7\" x2=\"17\" y2=\"45\" />\n  <line x1=\"20\" y1=\"10\" x2=\"20\" y2=\"49\" />\n  <line x1=\"24\" y1=\"14\" x2=\"24\" y2=\"52\" />\n  <line x1=\"27\" y1=\"17\" x2=\"27\" y2=\"56\" />\n  <line x1=\"31\" y1=\"21\" x2=\"31\" y2=\"59\" />\n  <line x1=\"34\" y1=\"24\" x2=\"34\" y2=\"63\" />\n  <line x1=\"38\" y1=\"28\" x2=\"38\" y2=\"66\" />\n  <line x1=\"41\" y1=\"31\" x2=\"41\" y2=\"70\" />\n  <line x1=\"47\" y1=\"37\" x2=\"47\" y2=\"75\" />\n  <line x1=\"50\" y1=\"40\" x2=\"50\" y2=\"79\" />\n  <line x1=\"54\" y1=\"44\" x2=\"54\" y2=\"82\" />\n  <line x1=\"57\" y1=\"47\" x2=\"57\" y2=\"86\" />\n  <line x1=\"61\" y1=\"51\" x2=\"61\" y2=\"89\" />\n  <line x1=\"64\" y1=\"54\" x2=\"64\" y2=\"93\" />\n  <line x1=\"68\" y1=\"58\" x2=\"68\" y2=\"96\" />\n  <line x1=\"71\" y1=\"61\" x2=\"71\" y2=\"100\" />\n  <line x1=\"75\" y1=\"65\" x2=\"75\" y2=\"103\" />\n  <line x1=\"80\" y1=\"70\" x2=\"80\" y2=\"109\" style=\"stroke-width:2\" />\n\n  <!-- Colored Rectangle -->\n  <polygon points=\"10.0,0.0 80.58823529411765,70.58823529411765 80.58823529411765,109.18509833020366 10.0,38.596863036086\" style=\"fill:#8B4903A0;stroke-width:0\"/>\n\n  <!-- Horizontal lines -->\n  <line x1=\"10\" y1=\"0\" x2=\"48\" y2=\"0\" style=\"stroke-width:2\" />\n  <line x1=\"13\" y1=\"3\" x2=\"52\" y2=\"3\" />\n  <line x1=\"17\" y1=\"7\" x2=\"55\" y2=\"7\" />\n  <line x1=\"20\" y1=\"10\" x2=\"59\" y2=\"10\" />\n  <line x1=\"24\" y1=\"14\" x2=\"62\" y2=\"14\" />\n  <line x1=\"27\" y1=\"17\" x2=\"66\" y2=\"17\" />\n  <line x1=\"31\" y1=\"21\" x2=\"69\" y2=\"21\" />\n  <line x1=\"34\" y1=\"24\" x2=\"73\" y2=\"24\" />\n  <line x1=\"38\" y1=\"28\" x2=\"76\" y2=\"28\" />\n  <line x1=\"41\" y1=\"31\" x2=\"80\" y2=\"31\" />\n  <line x1=\"47\" y1=\"37\" x2=\"85\" y2=\"37\" />\n  <line x1=\"50\" y1=\"40\" x2=\"89\" y2=\"40\" />\n  <line x1=\"54\" y1=\"44\" x2=\"92\" y2=\"44\" />\n  <line x1=\"57\" y1=\"47\" x2=\"96\" y2=\"47\" />\n  <line x1=\"61\" y1=\"51\" x2=\"99\" y2=\"51\" />\n  <line x1=\"64\" y1=\"54\" x2=\"103\" y2=\"54\" />\n  <line x1=\"68\" y1=\"58\" x2=\"106\" y2=\"58\" />\n  <line x1=\"71\" y1=\"61\" x2=\"110\" y2=\"61\" />\n  <line x1=\"75\" y1=\"65\" x2=\"113\" y2=\"65\" />\n  <line x1=\"80\" y1=\"70\" x2=\"119\" y2=\"70\" style=\"stroke-width:2\" />\n\n  <!-- Vertical lines -->\n  <line x1=\"10\" y1=\"0\" x2=\"80\" y2=\"70\" style=\"stroke-width:2\" />\n  <line x1=\"19\" y1=\"0\" x2=\"90\" y2=\"70\" />\n  <line x1=\"29\" y1=\"0\" x2=\"99\" y2=\"70\" />\n  <line x1=\"38\" y1=\"0\" x2=\"109\" y2=\"70\" />\n  <line x1=\"48\" y1=\"0\" x2=\"119\" y2=\"70\" style=\"stroke-width:2\" />\n\n  <!-- Colored Rectangle -->\n  <polygon points=\"10.0,0.0 48.596863036086,0.0 119.18509833020366,70.58823529411765 80.58823529411765,70.58823529411765\" style=\"fill:#8B4903A0;stroke-width:0\"/>\n\n  <!-- Horizontal lines -->\n  <line x1=\"80\" y1=\"70\" x2=\"119\" y2=\"70\" style=\"stroke-width:2\" />\n  <line x1=\"80\" y1=\"80\" x2=\"119\" y2=\"80\" />\n  <line x1=\"80\" y1=\"89\" x2=\"119\" y2=\"89\" />\n  <line x1=\"80\" y1=\"99\" x2=\"119\" y2=\"99\" />\n  <line x1=\"80\" y1=\"109\" x2=\"119\" y2=\"109\" style=\"stroke-width:2\" />\n\n  <!-- Vertical lines -->\n  <line x1=\"80\" y1=\"70\" x2=\"80\" y2=\"109\" style=\"stroke-width:2\" />\n  <line x1=\"90\" y1=\"70\" x2=\"90\" y2=\"109\" />\n  <line x1=\"99\" y1=\"70\" x2=\"99\" y2=\"109\" />\n  <line x1=\"109\" y1=\"70\" x2=\"109\" y2=\"109\" />\n  <line x1=\"119\" y1=\"70\" x2=\"119\" y2=\"109\" style=\"stroke-width:2\" />\n\n  <!-- Colored Rectangle -->\n  <polygon points=\"80.58823529411765,70.58823529411765 119.18509833020366,70.58823529411765 119.18509833020366,109.18509833020366 80.58823529411765,109.18509833020366\" style=\"fill:#ECB172A0;stroke-width:0\"/>\n\n  <!-- Text -->\n  <text x=\"99.886667\" y=\"129.185098\" font-size=\"1.0rem\" font-weight=\"100\" text-anchor=\"middle\" >1000</text>\n  <text x=\"139.185098\" y=\"89.886667\" font-size=\"1.0rem\" font-weight=\"100\" text-anchor=\"middle\" transform=\"rotate(-90,139.185098,89.886667)\">1000</text>\n  <text x=\"35.294118\" y=\"93.890981\" font-size=\"1.0rem\" font-weight=\"100\" text-anchor=\"middle\" transform=\"rotate(45,35.294118,93.890981)\">10000</text>\n</svg>\n        </td>\n    </tr>\n</table>"
     },
     "execution_count": 2,
     "metadata": {},
     "output_type": "execute_result"
    }
   ],
   "source": [
    "import dask.array as da\n",
    "\n",
    "images = da.ones((10000, 1000, 1000))\n",
    "images"
   ],
   "metadata": {
    "collapsed": false,
    "pycharm": {
     "name": "#%%\n"
    }
   }
  },
  {
   "cell_type": "markdown",
   "source": [
    "Now, it works!"
   ],
   "metadata": {
    "collapsed": false,
    "pycharm": {
     "name": "#%% md\n"
    }
   }
  }
 ],
 "metadata": {
  "kernelspec": {
   "display_name": "Python 3",
   "language": "python",
   "name": "python3"
  },
  "language_info": {
   "codemirror_mode": {
    "name": "ipython",
    "version": 2
   },
   "file_extension": ".py",
   "mimetype": "text/x-python",
   "name": "python",
   "nbconvert_exporter": "python",
   "pygments_lexer": "ipython2",
   "version": "2.7.6"
  }
 },
 "nbformat": 4,
 "nbformat_minor": 0
}