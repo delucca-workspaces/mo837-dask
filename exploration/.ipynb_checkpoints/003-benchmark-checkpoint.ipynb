{
 "cells": [
  {
   "cell_type": "code",
   "execution_count": 1,
   "metadata": {},
   "outputs": [],
   "source": [
    "import dask.array as da\n",
    "import time\n",
    "import numpy as np\n",
    "\n",
    "block_size=15000"
   ]
  },
  {
   "cell_type": "markdown",
   "metadata": {},
   "source": [
    "### Comparando com a Numpy"
   ]
  },
  {
   "cell_type": "code",
   "execution_count": 2,
   "metadata": {},
   "outputs": [],
   "source": [
    "a = np.random.rand(block_size, block_size)\n",
    "b = np.random.rand(block_size, block_size)"
   ]
  },
  {
   "cell_type": "code",
   "execution_count": 3,
   "metadata": {},
   "outputs": [
    {
     "name": "stdout",
     "output_type": "stream",
     "text": [
      "CPU times: user 4min 28s, sys: 42.1 s, total: 5min 10s\n",
      "Wall time: 20.5 s\n"
     ]
    },
    {
     "data": {
      "text/plain": [
       "array([[3741.77904021, 3750.89308929, 3739.25375757, ..., 3711.58763747,\n",
       "        3754.16123136, 3755.28042952],\n",
       "       [3774.57845044, 3776.37872728, 3776.26945562, ..., 3745.95229466,\n",
       "        3751.99162507, 3773.16466302],\n",
       "       [3737.44362327, 3772.12518912, 3737.26858194, ..., 3724.8715585 ,\n",
       "        3740.45733503, 3766.37489809],\n",
       "       ...,\n",
       "       [3762.23988747, 3778.4251357 , 3759.93012698, ..., 3737.85834131,\n",
       "        3752.46355232, 3756.03980705],\n",
       "       [3763.56303514, 3777.98086989, 3765.39347374, ..., 3763.69675253,\n",
       "        3753.88789245, 3756.77884424],\n",
       "       [3754.72447425, 3768.57991188, 3760.23460049, ..., 3740.10326474,\n",
       "        3744.01348798, 3767.4364912 ]])"
      ]
     },
     "execution_count": 3,
     "metadata": {},
     "output_type": "execute_result"
    }
   ],
   "source": [
    "%%time\n",
    "\n",
    "np.matmul(a,b)"
   ]
  },
  {
   "cell_type": "markdown",
   "metadata": {},
   "source": [
    "Agora convertendo para o dask"
   ]
  },
  {
   "cell_type": "code",
   "execution_count": 4,
   "metadata": {
    "scrolled": true
   },
   "outputs": [],
   "source": [
    "a = da.from_array(a)\n",
    "b = da.from_array(b)"
   ]
  },
  {
   "cell_type": "code",
   "execution_count": 5,
   "metadata": {},
   "outputs": [
    {
     "name": "stdout",
     "output_type": "stream",
     "text": [
      "CPU times: user 4min 50s, sys: 3min 25s, total: 8min 16s\n",
      "Wall time: 35.4 s\n"
     ]
    },
    {
     "data": {
      "text/plain": [
       "array([[3741.77904021, 3750.89308929, 3739.25375757, ..., 3711.58763747,\n",
       "        3754.16123136, 3755.28042952],\n",
       "       [3774.57845044, 3776.37872728, 3776.26945562, ..., 3745.95229466,\n",
       "        3751.99162507, 3773.16466302],\n",
       "       [3737.44362327, 3772.12518912, 3737.26858194, ..., 3724.8715585 ,\n",
       "        3740.45733503, 3766.37489809],\n",
       "       ...,\n",
       "       [3762.23988747, 3778.4251357 , 3759.93012698, ..., 3737.85834131,\n",
       "        3752.46355232, 3756.03980705],\n",
       "       [3763.56303514, 3777.98086989, 3765.39347374, ..., 3763.69675253,\n",
       "        3753.88789245, 3756.77884424],\n",
       "       [3754.72447425, 3768.57991188, 3760.23460049, ..., 3740.10326474,\n",
       "        3744.01348798, 3767.4364912 ]])"
      ]
     },
     "execution_count": 5,
     "metadata": {},
     "output_type": "execute_result"
    }
   ],
   "source": [
    "%%time\n",
    "a.dot(b).compute()"
   ]
  }
 ],
 "metadata": {
  "kernelspec": {
   "display_name": "Python 3 (ipykernel)",
   "language": "python",
   "name": "python3"
  },
  "language_info": {
   "codemirror_mode": {
    "name": "ipython",
    "version": 3
   },
   "file_extension": ".py",
   "mimetype": "text/x-python",
   "name": "python",
   "nbconvert_exporter": "python",
   "pygments_lexer": "ipython3",
   "version": "3.10.7"
  }
 },
 "nbformat": 4,
 "nbformat_minor": 4
}
